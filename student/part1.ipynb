{
    "cells": [
        {
            "cell_type": "markdown",
            "metadata": {},
            "source": [
                "# Lab04 Data Analysis: Introduction to 'pandas'\n",
                "**Objective:**\n",
                "\n",
                "Through this assignment, students will become familiar with basic operations using pandas.\n",
                "\n",
                "## About Dataset\n",
                "\n",
                "**Context**\n",
                "\n",
                "**note**\n",
                "\n",
                "You can use pipenv to install all modules you need"
            ]
        },
        {
            "cell_type": "code",
            "execution_count": null,
            "metadata": {},
            "outputs": [],
            "source": [
                "# import lybrary modules\n",
                "import pandas as pd\n",
                "import math\n",
                "from pandas.api.types import is_string_dtype\n",
                "import numpy as np\n",
                "import matplotlib.pyplot as plt"
            ]
        },
        {
            "cell_type": "markdown",
            "metadata": {},
            "source": [
                "# Problem B pokemon (30 points)"
            ]
        },
        {
            "cell_type": "code",
            "execution_count": null,
            "metadata": {},
            "outputs": [],
            "source": [
                "# read 'Pokemon.csv' file\n",
                "df = pd.read_csv('Pokemon.csv', delimiter=',', encoding='utf-8')\n",
                "display(df.head())"
            ]
        },
        {
            "cell_type": "code",
            "execution_count": null,
            "metadata": {},
            "outputs": [],
            "source": [
                "df.info()"
            ]
        },
        {
            "cell_type": "markdown",
            "metadata": {},
            "source": [
                "## Question 1 (10 pts)\n",
                "\n",
                "a. How many percentage of legendary Pokemons with an `Attack` value greater than 150? (3 pts) \n",
                "\n",
                "Also, we want to know how many percentage of non-legendary Pokemons with an `Attack` value greater than 150? (3 pts)\n",
                "\n",
                "Describe what you found. (1 pts)\n",
                "\n",
                "b. With the scatter plot below, find which pokemon is the outlier at the lower right corner. (3 pts)\n"
            ]
        },
        {
            "cell_type": "code",
            "execution_count": null,
            "metadata": {},
            "outputs": [],
            "source": [
                "def legendary_attack(df, is_legendary=True):\n",
                "    \"\"\"\n",
                "\n",
                "    Args:\n",
                "        df (pd.DataFrame): pokemon dataframe\n",
                "\n",
                "    Returns:\n",
                "        pd.DataFrame: the whole state of the legendary pokemon with the highest attack\n",
                "    \"\"\"\n",
                "    \n",
                "    # TODO_a\n",
                "    \n",
                "    return\n"
            ]
        },
        {
            "cell_type": "code",
            "execution_count": null,
            "metadata": {},
            "outputs": [],
            "source": [
                "# TODO_b\n"
            ]
        },
        {
            "cell_type": "markdown",
            "metadata": {},
            "source": [
                "## Question 2 (10 pts)\n",
                "We have a DataFrame about pokemons now. We want to know the distribution of pokemon for each type.\n",
                "\n",
                "Complete the function `pokemon_type_count()`\n",
                "\n",
                "\n",
                "**note**\n",
                "\n",
                "We only consider type1."
            ]
        },
        {
            "cell_type": "code",
            "execution_count": null,
            "metadata": {},
            "outputs": [],
            "source": [
                "def pokemon_type1_count(pokemon):\n",
                "    \"\"\"\n",
                "    compute the number of pokemons for each type1\n",
                "    \n",
                "\n",
                "    Args:\n",
                "        pokemon (pd.DataFrame) : pokemon dataframe\n",
                "        \n",
                "    Returns:\n",
                "        Dict[str, int] : dictionary of pokemon types and their counts\n",
                "    \"\"\"\n",
                "    \n",
                "    ans = {}\n",
                "    # TODO\n",
                "        \n",
                "    return ans"
            ]
        },
        {
            "cell_type": "code",
            "execution_count": null,
            "metadata": {},
            "outputs": [],
            "source": [
                "def test_pokemon_type(pokemon_dict):\n",
                "    \"\"\"\n",
                "    test the pokemon type dictionary\n",
                "    \n",
                "    Args:\n",
                "        pokemon_dict (Dict[str, int]) : pokemon type dictionary\n",
                "        \n",
                "    Returns:\n",
                "        None\n",
                "    \"\"\"\n",
                "    \n",
                "    assert isinstance(pokemon_dict, dict), 'pokemon_dict should be a dictionary'\n",
                "    assert all(isinstance(key, str) for key in pokemon_dict.keys()), 'pokemon_dict keys should be strings'\n",
                "    assert all(isinstance(value, int) for value in pokemon_dict.values()), 'pokemon_dict values should be integers'\n",
                "    assert all(value > 0 for value in pokemon_dict.values()), 'pokemon_dict values should be positive integers'\n",
                "    assert pokemon_dict['Water'] == 112, 'pokemon_dict should have 112 water pokemon'\n",
                "    assert pokemon_dict['Normal'] == 98, 'pokemon_dict should have 98 normal pokemon'\n",
                "    assert sum(pokemon_dict.values()) == 800, 'pokemon_dict values should sum to 800'\n",
                "    \n",
                "    print('All tests passed!')\n",
                "\n",
                "\n",
                "test_pokemon_type(pokemon_type1_count(df))\n"
            ]
        },
        {
            "cell_type": "markdown",
            "metadata": {},
            "source": [
                "## Question 3 Average attack value in different type (10 pts)\n",
                "\n",
                "We want to compare the attack value in each generation and visualize it as a horizontal bar chart.\n",
                "\n",
                "(a). Complete the function `average_attack_type()` (5 pts)\n",
                "\n",
                "(b). Visualize the data with horizontal bar chart. (5 pts)\n",
                "\n",
                "\n",
                "**note**\n",
                "* If the pokemon has multiple types, you should consider it in both types."
            ]
        },
        {
            "cell_type": "code",
            "execution_count": null,
            "metadata": {},
            "outputs": [],
            "source": [
                "def average_attack_type(pokemon):\n",
                "    \"\"\"\n",
                "    compute the average attack for each type1\n",
                "    \n",
                "\n",
                "    Args:\n",
                "        pokemon (pd.DataFrame) : pokemon dataframe\n",
                "        \n",
                "    Returns:\n",
                "        Dict[str, int] : dictionary of pokemon types and their average attack\n",
                "    \"\"\"\n",
                "    \n",
                "    ans = {}\n",
                "    # TODO\n",
                "        \n",
                "    return ans"
            ]
        },
        {
            "cell_type": "code",
            "execution_count": null,
            "metadata": {},
            "outputs": [],
            "source": [
                "def test_average_attack_type(average_attack_type):\n",
                "    \"\"\"\n",
                "    test the average attack type dictionary\n",
                "    \n",
                "    Args:\n",
                "        average_attack_type (Dict[str, int]) : average attack type dictionary\n",
                "        \n",
                "    Returns:\n",
                "        None\n",
                "    \"\"\"\n",
                "    assert isinstance(average_attack_type, dict), 'average_attack_type should be a dictionary'\n",
                "    assert all(isinstance(key, str) for key in average_attack_type.keys()), 'average_attack_type keys should be strings'\n",
                "    assert all(isinstance(value, float) for value in average_attack_type.values()), 'average_attack_type values should be floats'\n",
                "    assert all(value > 0 for value in average_attack_type.values()), 'average_attack_type values should be positive floats'\n",
                "    assert np.allclose(average_attack_type['Water'], 73.7063492063492), 'average_attack_type should have 73.7063492063492 water pokemon'\n",
                "    assert np.allclose(average_attack_type['Grass'], 73.46315789473684), 'average_attack_type should have 73.46315789473684 grass pokemon'\n",
                "    \n",
                "    print('All tests passed!')\n",
                "    \n",
                "    \n",
                "    \n",
                "\n",
                "test_average_attack_type(average_attack_type(df))"
            ]
        }
    ],
    "metadata": {
        "kernelspec": {
            "display_name": "lab04_pandas-h2omEnIN",
            "language": "python",
            "name": "python3"
        },
        "language_info": {
            "codemirror_mode": {
                "name": "ipython",
                "version": 3
            },
            "file_extension": ".py",
            "mimetype": "text/x-python",
            "name": "python",
            "nbconvert_exporter": "python",
            "pygments_lexer": "ipython3",
            "version": "3.9.13"
        }
    },
    "nbformat": 4,
    "nbformat_minor": 2
}
