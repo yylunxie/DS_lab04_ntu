{
 "cells": [
  {
   "cell_type": "markdown",
   "metadata": {},
   "source": [
    "# Problem B Data analysis with NBA player\n"
   ]
  },
  {
   "cell_type": "code",
   "execution_count": null,
   "metadata": {},
   "outputs": [],
   "source": [
    "# import lybrary modules\n",
    "import pandas as pd\n",
    "import math\n",
    "from pandas.api.types import is_string_dtype\n",
    "import numpy as np\n",
    "import matplotlib.pyplot as plt"
   ]
  },
  {
   "cell_type": "code",
   "execution_count": null,
   "metadata": {},
   "outputs": [],
   "source": [
    "df = pd.read_csv('all_seasons.csv', delimiter=',', encoding='utf-8')\n",
    "\n",
    "display(df.head())"
   ]
  },
  {
   "cell_type": "code",
   "execution_count": null,
   "metadata": {},
   "outputs": [],
   "source": [
    "# Calculate heigh and weight averages\n",
    "\n",
    "main_variables = df.groupby('player_name', as_index=False).agg({'player_height': 'mean', 'player_weight':'mean'})\n",
    "display(main_variables.head())\n",
    "\n",
    "# Plot the histogram of height and weight\n",
    "fig, ax = plt.subplots(1,2,figsize=(16, 8),sharey=True)\n",
    "plt.subplots_adjust(wspace=0.05)\n",
    "\n",
    "ax[0].hist(main_variables['player_height'], bins=20, color='#81C7D4', linewidth=1.2)\n",
    "ax[0].spines['right'].set_visible(False)\n",
    "ax[0].spines['top'].set_visible(False)\n",
    "ax[0].set_xlabel('Height', fontsize=16)\n",
    "ax[0].set_ylabel('Count', fontsize=16)\n",
    "ax[1].hist(main_variables['player_weight'], bins=20, color='#81C7D4', linewidth=1.2)\n",
    "ax[1].set_xlabel('Weight', fontsize=16)\n",
    "ax[1].spines['right'].set_visible(False)\n",
    "ax[1].spines['top'].set_visible(False)\n",
    "ax[1].spines['left'].set_visible(False)\n",
    "\n",
    "ax[0].axvline(175.3, color='#17408b', label='Average US Male Adult')\n",
    "ax[1].axvline(88.8, color='#17408b', label='Average US Male Adult')\n",
    "\n",
    "ax[0].axvline(main_variables['player_height'].mean(), color='#c9082a', label='Average US Male Adult')\n",
    "ax[1].axvline(main_variables['player_weight'].mean(), color='#c9082a', label='Average US Male Adult')\n",
    "\n",
    "plt.legend(frameon=False, fontsize=14)\n",
    "\n",
    "plt.tight_layout()\n",
    "plt.savefig('height_weight.png', dpi=300)\n",
    "plt.show()\n",
    "\n"
   ]
  },
  {
   "cell_type": "code",
   "execution_count": null,
   "metadata": {},
   "outputs": [],
   "source": [
    "df['season'] = df['season'].astype(str)\n",
    "df['season'] = df['season'].str[:4].astype(int)\n",
    "# display(df.head())\n",
    "# df.info()\n",
    "df = df.sort_values(by=['season'], ascending=True)\n",
    "\n",
    "new_df = df.groupby(['season', 'team_abbreviation'], as_index=False).agg({'player_height': 'mean', 'player_weight':'mean'})\n",
    "# display(new_df)\n",
    "teams = new_df['team_abbreviation'].unique()\n",
    "plt.figure(figsize=(10, 6))\n",
    "df_gsw = new_df[new_df['team_abbreviation'] == 'GSW']\n",
    "plt.plot(df_gsw['season'], df_gsw['player_height'], label='GSW')\n",
    "\n",
    "df_other = new_df[new_df['team_abbreviation'] != 'GSW']\n",
    "df_other = df_other.groupby('season', as_index=False).agg({'player_height': 'mean'})\n",
    "df_other.columns = ['season', 'mean_height']\n",
    "# display(df_other)\n",
    "\n",
    "# df_other = new_df[new_df['team_abbreviation'] != 'GSW']\n",
    "# df_other['other'] = df_other['player_height'].mean()\n",
    "plt.plot(df_other['season'], df_other['mean_height'], label='Other')\n",
    "\n",
    "# set x tick labels\n",
    "plt.xticks(np.arange(1996, 2024, 4))\n",
    "\n",
    "plt.legend(frameon=False, fontsize=14)\n",
    "plt.xlabel('Season', fontsize=14)\n",
    "plt.ylabel('Height', fontsize=14)\n",
    "plt.tight_layout()\n",
    "plt.savefig('height_season.png', dpi=300)\n",
    "plt.show()\n",
    "\n",
    "# for team in teams:\n",
    "#     df_team = new_df[new_df['team_abbreviation'] == team]\n",
    "#     plt.plot(df_team['season'], df_team['player_height'], label=team)"
   ]
  }
 ],
 "metadata": {
  "language_info": {
   "name": "python"
  }
 },
 "nbformat": 4,
 "nbformat_minor": 2
}
